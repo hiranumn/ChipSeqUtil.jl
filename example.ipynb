{
 "cells": [
  {
   "cell_type": "code",
   "execution_count": null,
   "metadata": {
    "collapsed": true
   },
   "outputs": [],
   "source": [
    "Pkg.clone(\"https://github.com/hiranumn/ChipSeqUtil.jl.git\")"
   ]
  },
  {
   "cell_type": "code",
   "execution_count": 1,
   "metadata": {
    "collapsed": false
   },
   "outputs": [
    {
     "name": "stderr",
     "output_type": "stream",
     "text": [
      "INFO: Updating METADATA...\n",
      "INFO: Updating ChipSeqUtil master... e77ed208 → 700275f6\n",
      "INFO: Computing changes...\n",
      "INFO: No packages to install, update or remove\n"
     ]
    }
   ],
   "source": [
    "Pkg.update(\"ChipSeqUtil\")"
   ]
  },
  {
   "cell_type": "code",
   "execution_count": 2,
   "metadata": {
    "collapsed": false
   },
   "outputs": [],
   "source": [
    "using ChipSeqUtil"
   ]
  },
  {
   "cell_type": "markdown",
   "metadata": {},
   "source": [
    "# Loading narrowpeak-like files\n",
    "\n",
    "You can use load_narrowpeak() function to load peak files that are in extended BED format."
   ]
  },
  {
   "cell_type": "code",
   "execution_count": 10,
   "metadata": {
    "collapsed": false
   },
   "outputs": [
    {
     "name": "stdout",
     "output_type": "stream",
     "text": [
      "Total sum:   540395\n",
      "Total pvals: 4.69922503547e6\n"
     ]
    }
   ],
   "source": [
    "#macs2\n",
    "bool, pvals = load_narrowpeak(open(\"test/macs2.peaks\"), ReferenceContigs_hg38, 8)\n",
    "println(\"Total sum:   \", sum(bool))\n",
    "println(\"Total pvals: \", sum(pvals))"
   ]
  },
  {
   "cell_type": "code",
   "execution_count": 11,
   "metadata": {
    "collapsed": false
   },
   "outputs": [
    {
     "name": "stdout",
     "output_type": "stream",
     "text": [
      "Total sum:   938382\n",
      "Total pvals: 7.970394458e6\n"
     ]
    }
   ],
   "source": [
    "#pureseq\n",
    "bool, pvals = load_narrowpeak(open(\"test/pureseq.peaks\"), ReferenceContigs_hg38, 8)\n",
    "println(\"Total sum:   \", sum(bool))\n",
    "println(\"Total pvals: \", sum(pvals))"
   ]
  },
  {
   "cell_type": "code",
   "execution_count": 12,
   "metadata": {
    "collapsed": false
   },
   "outputs": [
    {
     "name": "stdout",
     "output_type": "stream",
     "text": [
      "Total sum:   48590\n",
      "Total pvals: Inf\n"
     ]
    }
   ],
   "source": [
    "#sissrs\n",
    "bool, pvals = load_narrowpeak(open(\"test/sissrs.peaks\"), ReferenceContigs_hg38, 6, mlogt=true)\n",
    "println(\"Total sum:   \", sum(bool))\n",
    "println(\"Total pvals: \", sum(pvals))"
   ]
  },
  {
   "cell_type": "code",
   "execution_count": 13,
   "metadata": {
    "collapsed": false
   },
   "outputs": [
    {
     "name": "stdout",
     "output_type": "stream",
     "text": [
      "Total sum:   101670\n",
      "Total pvals: 3.8769480671159243e6\n"
     ]
    }
   ],
   "source": [
    "#spp\n",
    "bool, pvals = load_narrowpeak(open(\"test/spp.peaks\"), ReferenceContigs_hg38, 7)\n",
    "println(\"Total sum:   \", sum(bool))\n",
    "println(\"Total pvals: \", sum(pvals))"
   ]
  },
  {
   "cell_type": "markdown",
   "metadata": {},
   "source": [
    "# Loading ENCODE metadata\n",
    "\n",
    "metadata is a dataframe that stores meta information about ENCODE ChipSeq data."
   ]
  },
  {
   "cell_type": "code",
   "execution_count": 14,
   "metadata": {
    "collapsed": false
   },
   "outputs": [
    {
     "data": {
      "text/html": [
       "<table class=\"data-frame\"><thead><tr><th></th><th>EXP</th><th>ID</th><th>TARGET</th><th>CELLTYPE</th><th>CTRL1</th><th>CTRL2</th><th>IFCTRL</th><th>LAB</th></tr></thead><tbody><tr><th>1</th><td>ENCSR000AHD</td><td>ENCFF000QLT</td><td>CTCF</td><td>MCF-7</td><td>ENCSR000AHE</td><td>NA</td><td>false</td><td>Richard Myers, HAIB</td></tr><tr><th>2</th><td>ENCSR000AHD</td><td>ENCFF000QLW</td><td>CTCF</td><td>MCF-7</td><td>ENCSR000AHE</td><td>NA</td><td>false</td><td>Richard Myers, HAIB</td></tr><tr><th>3</th><td>ENCSR000AHE</td><td>ENCFF000QQG</td><td>Control</td><td>MCF-7</td><td>NA</td><td>NA</td><td>true</td><td>Richard Myers, HAIB</td></tr><tr><th>4</th><td>ENCSR000AHE</td><td>ENCFF000QQI</td><td>Control</td><td>MCF-7</td><td>NA</td><td>NA</td><td>true</td><td>Richard Myers, HAIB</td></tr><tr><th>5</th><td>ENCSR000AHE</td><td>ENCFF000QQJ</td><td>Control</td><td>MCF-7</td><td>NA</td><td>NA</td><td>true</td><td>Richard Myers, HAIB</td></tr><tr><th>6</th><td>ENCSR000AHE</td><td>ENCFF000QQK</td><td>Control</td><td>MCF-7</td><td>NA</td><td>NA</td><td>true</td><td>Richard Myers, HAIB</td></tr><tr><th>7</th><td>ENCSR000AHF</td><td>ENCFF000QRL</td><td>TAF1</td><td>MCF-7</td><td>ENCSR000AHE</td><td>NA</td><td>false</td><td>Richard Myers, HAIB</td></tr><tr><th>8</th><td>ENCSR000AHF</td><td>ENCFF000QRS</td><td>TAF1</td><td>MCF-7</td><td>ENCSR000AHE</td><td>NA</td><td>false</td><td>Richard Myers, HAIB</td></tr><tr><th>9</th><td>ENCSR000AKA</td><td>ENCFF000ASR</td><td>H3K4me3</td><td>GM12878</td><td>ENCSR000AKJ</td><td>NA</td><td>false</td><td>Bradley Bernstein, Broad</td></tr><tr><th>10</th><td>ENCSR000AKA</td><td>ENCFF000AUB</td><td>H3K4me3</td><td>GM12878</td><td>ENCSR000AKJ</td><td>NA</td><td>false</td><td>Bradley Bernstein, Broad</td></tr><tr><th>11</th><td>ENCSR000AKB</td><td>ENCFF000ARP</td><td>CTCF</td><td>GM12878</td><td>ENCSR000AKJ</td><td>NA</td><td>false</td><td>Bradley Bernstein, Broad</td></tr><tr><th>12</th><td>ENCSR000AKB</td><td>ENCFF000ARV</td><td>CTCF</td><td>GM12878</td><td>ENCSR000AKJ</td><td>NA</td><td>false</td><td>Bradley Bernstein, Broad</td></tr><tr><th>13</th><td>ENCSR000AKC</td><td>ENCFF000ASP</td><td>H3K27ac</td><td>GM12878</td><td>ENCSR000AKJ</td><td>NA</td><td>false</td><td>Bradley Bernstein, Broad</td></tr><tr><th>14</th><td>ENCSR000AKC</td><td>ENCFF000ASU</td><td>H3K27ac</td><td>GM12878</td><td>ENCSR000AKJ</td><td>NA</td><td>false</td><td>Bradley Bernstein, Broad</td></tr><tr><th>15</th><td>ENCSR000AKD</td><td>ENCFF000ASV</td><td>H3K27me3</td><td>GM12878</td><td>ENCSR000AKJ</td><td>NA</td><td>false</td><td>Bradley Bernstein, Broad</td></tr><tr><th>16</th><td>ENCSR000AKD</td><td>ENCFF000ASW</td><td>H3K27me3</td><td>GM12878</td><td>ENCSR000AKJ</td><td>NA</td><td>false</td><td>Bradley Bernstein, Broad</td></tr><tr><th>17</th><td>ENCSR000AKD</td><td>ENCFF000ASZ</td><td>H3K27me3</td><td>GM12878</td><td>ENCSR000AKJ</td><td>NA</td><td>false</td><td>Bradley Bernstein, Broad</td></tr><tr><th>18</th><td>ENCSR000AKE</td><td>ENCFF000ATJ</td><td>H3K36me3</td><td>GM12878</td><td>ENCSR000AKJ</td><td>NA</td><td>false</td><td>Bradley Bernstein, Broad</td></tr><tr><th>19</th><td>ENCSR000AKE</td><td>ENCFF000ATN</td><td>H3K36me3</td><td>GM12878</td><td>ENCSR000AKJ</td><td>NA</td><td>false</td><td>Bradley Bernstein, Broad</td></tr><tr><th>20</th><td>ENCSR000AKF</td><td>ENCFF000ASM</td><td>H3K4me1</td><td>GM12878</td><td>ENCSR000AKJ</td><td>NA</td><td>false</td><td>Bradley Bernstein, Broad</td></tr><tr><th>21</th><td>ENCSR000AKF</td><td>ENCFF000ATK</td><td>H3K4me1</td><td>GM12878</td><td>ENCSR000AKJ</td><td>NA</td><td>false</td><td>Bradley Bernstein, Broad</td></tr><tr><th>22</th><td>ENCSR000AKG</td><td>ENCFF000ATO</td><td>H3K4me2</td><td>GM12878</td><td>ENCSR000AKJ</td><td>NA</td><td>false</td><td>Bradley Bernstein, Broad</td></tr><tr><th>23</th><td>ENCSR000AKG</td><td>ENCFF000ATW</td><td>H3K4me2</td><td>GM12878</td><td>ENCSR000AKJ</td><td>NA</td><td>false</td><td>Bradley Bernstein, Broad</td></tr><tr><th>24</th><td>ENCSR000AKH</td><td>ENCFF000AUM</td><td>H3K9ac</td><td>GM12878</td><td>ENCSR000AKJ</td><td>NA</td><td>false</td><td>Bradley Bernstein, Broad</td></tr><tr><th>25</th><td>ENCSR000AKH</td><td>ENCFF000AUN</td><td>H3K9ac</td><td>GM12878</td><td>ENCSR000AKJ</td><td>NA</td><td>false</td><td>Bradley Bernstein, Broad</td></tr><tr><th>26</th><td>ENCSR000AKI</td><td>ENCFF000AVB</td><td>H4K20me1</td><td>GM12878</td><td>ENCSR000AKJ</td><td>NA</td><td>false</td><td>Bradley Bernstein, Broad</td></tr><tr><th>27</th><td>ENCSR000AKI</td><td>ENCFF000AVC</td><td>H4K20me1</td><td>GM12878</td><td>ENCSR000AKJ</td><td>NA</td><td>false</td><td>Bradley Bernstein, Broad</td></tr><tr><th>28</th><td>ENCSR000AKJ</td><td>ENCFF000ARK</td><td>Control</td><td>GM12878</td><td>NA</td><td>NA</td><td>true</td><td>Bradley Bernstein, Broad</td></tr><tr><th>29</th><td>ENCSR000AKJ</td><td>ENCFF000ARO</td><td>Control</td><td>GM12878</td><td>NA</td><td>NA</td><td>true</td><td>Bradley Bernstein, Broad</td></tr><tr><th>30</th><td>ENCSR000AKK</td><td>ENCFF000BSK</td><td>H3K27me3</td><td>endothelial cell of umbilical vein</td><td>ENCSR000ALG</td><td>NA</td><td>false</td><td>Bradley Bernstein, Broad</td></tr><tr><th>&vellip;</th><td>&vellip;</td><td>&vellip;</td><td>&vellip;</td><td>&vellip;</td><td>&vellip;</td><td>&vellip;</td><td>&vellip;</td><td>&vellip;</td></tr></tbody></table>"
      ],
      "text/plain": [
       "3554×8 DataFrames.DataFrame\n",
       "│ Row  │ EXP           │ ID            │ TARGET    │ CELLTYPE   │\n",
       "├──────┼───────────────┼───────────────┼───────────┼────────────┤\n",
       "│ 1    │ \"ENCSR000AHD\" │ \"ENCFF000QLT\" │ \"CTCF\"    │ \"MCF-7\"    │\n",
       "│ 2    │ \"ENCSR000AHD\" │ \"ENCFF000QLW\" │ \"CTCF\"    │ \"MCF-7\"    │\n",
       "│ 3    │ \"ENCSR000AHE\" │ \"ENCFF000QQG\" │ \"Control\" │ \"MCF-7\"    │\n",
       "│ 4    │ \"ENCSR000AHE\" │ \"ENCFF000QQI\" │ \"Control\" │ \"MCF-7\"    │\n",
       "│ 5    │ \"ENCSR000AHE\" │ \"ENCFF000QQJ\" │ \"Control\" │ \"MCF-7\"    │\n",
       "│ 6    │ \"ENCSR000AHE\" │ \"ENCFF000QQK\" │ \"Control\" │ \"MCF-7\"    │\n",
       "│ 7    │ \"ENCSR000AHF\" │ \"ENCFF000QRL\" │ \"TAF1\"    │ \"MCF-7\"    │\n",
       "│ 8    │ \"ENCSR000AHF\" │ \"ENCFF000QRS\" │ \"TAF1\"    │ \"MCF-7\"    │\n",
       "│ 9    │ \"ENCSR000AKA\" │ \"ENCFF000ASR\" │ \"H3K4me3\" │ \"GM12878\"  │\n",
       "│ 10   │ \"ENCSR000AKA\" │ \"ENCFF000AUB\" │ \"H3K4me3\" │ \"GM12878\"  │\n",
       "│ 11   │ \"ENCSR000AKB\" │ \"ENCFF000ARP\" │ \"CTCF\"    │ \"GM12878\"  │\n",
       "⋮\n",
       "│ 3543 │ \"ENCSR992YSL\" │ \"ENCFF002BBV\" │ \"H3K4me2\" │ \"DOHH2\"    │\n",
       "│ 3544 │ \"ENCSR996DUT\" │ \"ENCFF002DZU\" │ \"JUN\"     │ \"A549\"     │\n",
       "│ 3545 │ \"ENCSR996DUT\" │ \"ENCFF002DZV\" │ \"JUN\"     │ \"A549\"     │\n",
       "│ 3546 │ \"ENCSR996GHD\" │ \"ENCFF002AXW\" │ \"H3K9ac\"  │ \"Oci-Ly-3\" │\n",
       "│ 3547 │ \"ENCSR996GHD\" │ \"ENCFF002BAS\" │ \"H3K9ac\"  │ \"Oci-Ly-3\" │\n",
       "│ 3548 │ \"ENCSR996HUG\" │ \"ENCFF002BGB\" │ \"Control\" │ \"K562\"     │\n",
       "│ 3549 │ \"ENCSR998AJK\" │ \"ENCFF002DPA\" │ \"NRF1\"    │ \"K562\"     │\n",
       "│ 3550 │ \"ENCSR998AJK\" │ \"ENCFF002DPF\" │ \"NRF1\"    │ \"K562\"     │\n",
       "│ 3551 │ \"ENCSR998AJK\" │ \"ENCFF002EFX\" │ \"NRF1\"    │ \"K562\"     │\n",
       "│ 3552 │ \"ENCSR998AJK\" │ \"ENCFF002EFZ\" │ \"NRF1\"    │ \"K562\"     │\n",
       "│ 3553 │ \"ENCSR999WHE\" │ \"ENCFF002AZQ\" │ \"H3K9me3\" │ \"MCF-7\"    │\n",
       "│ 3554 │ \"ENCSR999WHE\" │ \"ENCFF002BAW\" │ \"H3K9me3\" │ \"MCF-7\"    │\n",
       "\n",
       "│ Row  │ CTRL1         │ CTRL2 │ IFCTRL │ LAB                        │\n",
       "├──────┼───────────────┼───────┼────────┼────────────────────────────┤\n",
       "│ 1    │ \"ENCSR000AHE\" │ NA    │ false  │ \"Richard Myers, HAIB\"      │\n",
       "│ 2    │ \"ENCSR000AHE\" │ NA    │ false  │ \"Richard Myers, HAIB\"      │\n",
       "│ 3    │ NA            │ NA    │ true   │ \"Richard Myers, HAIB\"      │\n",
       "│ 4    │ NA            │ NA    │ true   │ \"Richard Myers, HAIB\"      │\n",
       "│ 5    │ NA            │ NA    │ true   │ \"Richard Myers, HAIB\"      │\n",
       "│ 6    │ NA            │ NA    │ true   │ \"Richard Myers, HAIB\"      │\n",
       "│ 7    │ \"ENCSR000AHE\" │ NA    │ false  │ \"Richard Myers, HAIB\"      │\n",
       "│ 8    │ \"ENCSR000AHE\" │ NA    │ false  │ \"Richard Myers, HAIB\"      │\n",
       "│ 9    │ \"ENCSR000AKJ\" │ NA    │ false  │ \"Bradley Bernstein, Broad\" │\n",
       "│ 10   │ \"ENCSR000AKJ\" │ NA    │ false  │ \"Bradley Bernstein, Broad\" │\n",
       "│ 11   │ \"ENCSR000AKJ\" │ NA    │ false  │ \"Bradley Bernstein, Broad\" │\n",
       "⋮\n",
       "│ 3543 │ \"ENCSR742WWB\" │ NA    │ false  │ \"Bradley Bernstein, Broad\" │\n",
       "│ 3544 │ \"ENCSR949BZP\" │ NA    │ false  │ \"Michael Snyder, Stanford\" │\n",
       "│ 3545 │ \"ENCSR949BZP\" │ NA    │ false  │ \"Michael Snyder, Stanford\" │\n",
       "│ 3546 │ \"ENCSR361GKY\" │ NA    │ false  │ \"Bradley Bernstein, Broad\" │\n",
       "│ 3547 │ \"ENCSR361GKY\" │ NA    │ false  │ \"Bradley Bernstein, Broad\" │\n",
       "│ 3548 │ NA            │ NA    │ true   │ \"Richard Myers, HAIB\"      │\n",
       "│ 3549 │ \"ENCSR173USI\" │ NA    │ false  │ \"Michael Snyder, Stanford\" │\n",
       "│ 3550 │ \"ENCSR173USI\" │ NA    │ false  │ \"Michael Snyder, Stanford\" │\n",
       "│ 3551 │ \"ENCSR173USI\" │ NA    │ false  │ \"Michael Snyder, Stanford\" │\n",
       "│ 3552 │ \"ENCSR173USI\" │ NA    │ false  │ \"Michael Snyder, Stanford\" │\n",
       "│ 3553 │ \"ENCSR768LHG\" │ NA    │ false  │ \"Bradley Bernstein, Broad\" │\n",
       "│ 3554 │ \"ENCSR768LHG\" │ NA    │ false  │ \"Bradley Bernstein, Broad\" │"
      ]
     },
     "execution_count": 14,
     "metadata": {},
     "output_type": "execute_result"
    }
   ],
   "source": [
    "metadata"
   ]
  }
 ],
 "metadata": {
  "kernelspec": {
   "display_name": "Julia 0.5.0",
   "language": "julia",
   "name": "julia-0.5"
  },
  "language_info": {
   "file_extension": ".jl",
   "mimetype": "application/julia",
   "name": "julia",
   "version": "0.5.0"
  }
 },
 "nbformat": 4,
 "nbformat_minor": 0
}

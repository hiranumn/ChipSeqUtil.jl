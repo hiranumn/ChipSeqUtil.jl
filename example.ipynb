{
 "cells": [
  {
   "cell_type": "code",
   "execution_count": null,
   "metadata": {
    "collapsed": true
   },
   "outputs": [],
   "source": [
    "Pkg.clone(\"https://github.com/hiranumn/ChipSeqUtil.jl.git\")"
   ]
  },
  {
   "cell_type": "code",
   "execution_count": 6,
   "metadata": {
    "collapsed": false
   },
   "outputs": [
    {
     "name": "stderr",
     "output_type": "stream",
     "text": [
      "INFO: Updating METADATA...\n",
      "INFO: Updating ChipSeqUtil master... e0fcceb7 → b407c5c4\n",
      "INFO: Computing changes...\n",
      "INFO: No packages to install, update or remove\n"
     ]
    }
   ],
   "source": [
    "Pkg.update(\"ChipSeqUtil\")"
   ]
  },
  {
   "cell_type": "code",
   "execution_count": 8,
   "metadata": {
    "collapsed": false
   },
   "outputs": [],
   "source": [
    "using ChipSeqUtil"
   ]
  },
  {
   "cell_type": "code",
   "execution_count": 9,
   "metadata": {
    "collapsed": false
   },
   "outputs": [
    {
     "name": "stdout",
     "output_type": "stream",
     "text": [
      "Total sum:   540395\n",
      "Total pvals: 4.69922503547e6\n"
     ]
    }
   ],
   "source": [
    "#macs2\n",
    "bool, pvals = load_narrowpeak(open(\"test/macs2.peaks\"), ReferenceContigs_hg38, 8)\n",
    "println(\"Total sum:   \", sum(bool))\n",
    "println(\"Total pvals: \", sum(pvals))"
   ]
  },
  {
   "cell_type": "code",
   "execution_count": 10,
   "metadata": {
    "collapsed": false
   },
   "outputs": [
    {
     "name": "stdout",
     "output_type": "stream",
     "text": [
      "Total sum:   938382\n",
      "Total pvals: 7.970394458e6\n"
     ]
    }
   ],
   "source": [
    "#pureseq\n",
    "bool, pvals = load_narrowpeak(open(\"test/pureseq.peaks\"), ReferenceContigs_hg38, 8)\n",
    "println(\"Total sum:   \", sum(bool))\n",
    "println(\"Total pvals: \", sum(pvals))"
   ]
  },
  {
   "cell_type": "code",
   "execution_count": 11,
   "metadata": {
    "collapsed": false
   },
   "outputs": [
    {
     "name": "stdout",
     "output_type": "stream",
     "text": [
      "Total sum:   48590\n",
      "Total pvals: Inf\n"
     ]
    }
   ],
   "source": [
    "#sissrs\n",
    "bool, pvals = load_narrowpeak(open(\"test/sissrs.peaks\"), ReferenceContigs_hg38, 6, mlogt=true)\n",
    "println(\"Total sum:   \", sum(bool))\n",
    "println(\"Total pvals: \", sum(pvals))"
   ]
  },
  {
   "cell_type": "code",
   "execution_count": 12,
   "metadata": {
    "collapsed": false
   },
   "outputs": [
    {
     "name": "stdout",
     "output_type": "stream",
     "text": [
      "Total sum:   101670\n",
      "Total pvals: 3.8769480671159243e6\n"
     ]
    }
   ],
   "source": [
    "#spp\n",
    "bool, pvals = load_narrowpeak(open(\"test/spp.peaks\"), ReferenceContigs_hg38, 7)\n",
    "println(\"Total sum:   \", sum(bool))\n",
    "println(\"Total pvals: \", sum(pvals))"
   ]
  }
 ],
 "metadata": {
  "kernelspec": {
   "display_name": "Julia 0.5.0",
   "language": "julia",
   "name": "julia-0.5"
  },
  "language_info": {
   "file_extension": ".jl",
   "mimetype": "application/julia",
   "name": "julia",
   "version": "0.5.0"
  }
 },
 "nbformat": 4,
 "nbformat_minor": 0
}
